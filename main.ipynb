{
 "cells": [
  {
   "cell_type": "markdown",
   "metadata": {},
   "source": [
    "## **The International Society of Data Scientists - NLP Track**\n",
    "#### **Fashion and Beauty Review Rating - The 3rd Annual International Data Science & AI Competition 2022**\n",
    "\n",
    "\n",
    "Predict how satisfied customers are based on their product reviews, to help with insight in fashion and beauty products."
   ]
  },
  {
   "cell_type": "markdown",
   "metadata": {},
   "source": [
    "#### Downloading Datasets"
   ]
  },
  {
   "cell_type": "code",
   "execution_count": null,
   "metadata": {},
   "outputs": [],
   "source": [
    "%pip install opendatasets"
   ]
  },
  {
   "cell_type": "code",
   "execution_count": 1,
   "metadata": {},
   "outputs": [
    {
     "name": "stdout",
     "output_type": "stream",
     "text": [
      "Please provide your Kaggle credentials to download this dataset. Learn more: http://bit.ly/kaggle-creds\n",
      "Your Kaggle username:Your Kaggle Key:"
     ]
    },
    {
     "name": "stderr",
     "output_type": "stream",
     "text": [
      "c:\\Users\\cpani\\AppData\\Local\\Programs\\Python\\Python310\\lib\\site-packages\\cryptography\\hazmat\\backends\\openssl\\x509.py:14: CryptographyDeprecationWarning: This version of cryptography contains a temporary pyOpenSSL fallback path. Upgrade pyOpenSSL now.\n",
      "  warnings.warn(\n"
     ]
    },
    {
     "name": "stdout",
     "output_type": "stream",
     "text": [
      "Downloading fashion-and-beauty-reviews.zip to .\\fashion-and-beauty-reviews\n"
     ]
    },
    {
     "name": "stderr",
     "output_type": "stream",
     "text": [
      "100%|██████████| 112M/112M [00:28<00:00, 4.15MB/s] "
     ]
    },
    {
     "name": "stdout",
     "output_type": "stream",
     "text": [
      "\n",
      "Extracting archive .\\fashion-and-beauty-reviews/fashion-and-beauty-reviews.zip to .\\fashion-and-beauty-reviews\n"
     ]
    },
    {
     "name": "stderr",
     "output_type": "stream",
     "text": [
      "\n"
     ]
    }
   ],
   "source": [
    "import opendatasets as od\n",
    "od.download(\"https://www.kaggle.com/competitions/fashion-and-beauty-reviews\")"
   ]
  },
  {
   "cell_type": "markdown",
   "metadata": {},
   "source": [
    "#### Working with the Dataset"
   ]
  },
  {
   "cell_type": "code",
   "execution_count": null,
   "metadata": {},
   "outputs": [],
   "source": [
    "%pip install pandas\n",
    "%pip install numpy\n",
    "%pip install torch"
   ]
  },
  {
   "cell_type": "code",
   "execution_count": 24,
   "metadata": {},
   "outputs": [],
   "source": [
    "import pandas as pd\n",
    "import numpy as np"
   ]
  },
  {
   "cell_type": "code",
   "execution_count": 2,
   "metadata": {},
   "outputs": [],
   "source": [
    "dataframe = pd.read_csv(r\"fashion-and-beauty-reviews\\review_train.tsv\", sep='\\t', header=0)"
   ]
  },
  {
   "cell_type": "code",
   "execution_count": 4,
   "metadata": {},
   "outputs": [
    {
     "data": {
      "text/html": [
       "<div>\n",
       "<style scoped>\n",
       "    .dataframe tbody tr th:only-of-type {\n",
       "        vertical-align: middle;\n",
       "    }\n",
       "\n",
       "    .dataframe tbody tr th {\n",
       "        vertical-align: top;\n",
       "    }\n",
       "\n",
       "    .dataframe thead th {\n",
       "        text-align: right;\n",
       "    }\n",
       "</style>\n",
       "<table border=\"1\" class=\"dataframe\">\n",
       "  <thead>\n",
       "    <tr style=\"text-align: right;\">\n",
       "      <th></th>\n",
       "      <th>rating</th>\n",
       "      <th>review</th>\n",
       "      <th>summary</th>\n",
       "      <th>product</th>\n",
       "      <th>reviewer</th>\n",
       "    </tr>\n",
       "  </thead>\n",
       "  <tbody>\n",
       "    <tr>\n",
       "      <th>0</th>\n",
       "      <td>4.0</td>\n",
       "      <td>I received this cream about 8 days ago and hav...</td>\n",
       "      <td>Thought this cream was making me sick...</td>\n",
       "      <td>B00DKEQYJY</td>\n",
       "      <td>A3IQA3VVDHGAK1</td>\n",
       "    </tr>\n",
       "    <tr>\n",
       "      <th>1</th>\n",
       "      <td>5.0</td>\n",
       "      <td>Beautiful pieces</td>\n",
       "      <td>Five Stars</td>\n",
       "      <td>B00L4JJKH0</td>\n",
       "      <td>A1QWCVZMSYG1N2</td>\n",
       "    </tr>\n",
       "    <tr>\n",
       "      <th>2</th>\n",
       "      <td>5.0</td>\n",
       "      <td>Really impressive tree. It goes together quick...</td>\n",
       "      <td>Highly recommended</td>\n",
       "      <td>1620213982</td>\n",
       "      <td>A2QRLRHMFDJ25E</td>\n",
       "    </tr>\n",
       "    <tr>\n",
       "      <th>3</th>\n",
       "      <td>4.0</td>\n",
       "      <td>good</td>\n",
       "      <td>Four Stars</td>\n",
       "      <td>B01D2J35BG</td>\n",
       "      <td>A2MMO1P2ZNEUNF</td>\n",
       "    </tr>\n",
       "    <tr>\n",
       "      <th>4</th>\n",
       "      <td>5.0</td>\n",
       "      <td>Gift for granddaughter.  She loved it.</td>\n",
       "      <td>Cool looking umbrella.</td>\n",
       "      <td>B01422IQD4</td>\n",
       "      <td>A1WXKDA47VPOFT</td>\n",
       "    </tr>\n",
       "  </tbody>\n",
       "</table>\n",
       "</div>"
      ],
      "text/plain": [
       "   rating                                             review  \\\n",
       "0     4.0  I received this cream about 8 days ago and hav...   \n",
       "1     5.0                                   Beautiful pieces   \n",
       "2     5.0  Really impressive tree. It goes together quick...   \n",
       "3     4.0                                               good   \n",
       "4     5.0             Gift for granddaughter.  She loved it.   \n",
       "\n",
       "                                    summary     product        reviewer  \n",
       "0  Thought this cream was making me sick...  B00DKEQYJY  A3IQA3VVDHGAK1  \n",
       "1                                Five Stars  B00L4JJKH0  A1QWCVZMSYG1N2  \n",
       "2                        Highly recommended  1620213982  A2QRLRHMFDJ25E  \n",
       "3                                Four Stars  B01D2J35BG  A2MMO1P2ZNEUNF  \n",
       "4                    Cool looking umbrella.  B01422IQD4  A1WXKDA47VPOFT  "
      ]
     },
     "execution_count": 4,
     "metadata": {},
     "output_type": "execute_result"
    }
   ],
   "source": [
    "dataframe.head()"
   ]
  },
  {
   "cell_type": "markdown",
   "metadata": {},
   "source": [
    "##### Simple Analysis"
   ]
  },
  {
   "cell_type": "code",
   "execution_count": 3,
   "metadata": {},
   "outputs": [
    {
     "data": {
      "text/plain": [
       "(1003984, 5)"
      ]
     },
     "execution_count": 3,
     "metadata": {},
     "output_type": "execute_result"
    }
   ],
   "source": [
    "dataframe.shape"
   ]
  },
  {
   "cell_type": "code",
   "execution_count": 28,
   "metadata": {},
   "outputs": [
    {
     "name": "stdout",
     "output_type": "stream",
     "text": [
      "Possible ratings : [1. 2. 3. 4. 5.]\n"
     ]
    }
   ],
   "source": [
    "print(f\"Possible ratings : {np.sort(dataframe['rating'].unique())}\")"
   ]
  },
  {
   "cell_type": "code",
   "execution_count": 30,
   "metadata": {},
   "outputs": [
    {
     "name": "stdout",
     "output_type": "stream",
     "text": [
      "Longest string in 'review' is record# 788873 of length 13741\n",
      "Shortest string in 'review' is record# 9398 of length 1\n",
      "Longest string in 'summary' is record# 800077 of length 267\n",
      "Shortest string in 'summary' is record# 2321 of length 1\n"
     ]
    }
   ],
   "source": [
    "for col in ['review', 'summary']:\n",
    "      print(f\"Longest string in '{col}' is record# {dataframe[col].str.len().argmax()} \"\n",
    "            f\"of length {len(dataframe.iloc[dataframe[col].str.len().argmax()][col])}\")\n",
    "\n",
    "      print(f\"Shortest string in '{col}' is record# {dataframe[col].str.len().argmin()} \"\n",
    "            f\"of length {len(dataframe.iloc[dataframe[col].str.len().argmin()][col])}\")"
   ]
  },
  {
   "cell_type": "code",
   "execution_count": 6,
   "metadata": {},
   "outputs": [
    {
     "data": {
      "text/plain": [
       "rating      0\n",
       "review      0\n",
       "summary     0\n",
       "product     0\n",
       "reviewer    0\n",
       "dtype: int64"
      ]
     },
     "execution_count": 6,
     "metadata": {},
     "output_type": "execute_result"
    }
   ],
   "source": [
    "dataframe.isna().sum()"
   ]
  },
  {
   "cell_type": "markdown",
   "metadata": {},
   "source": [
    "#### Set up"
   ]
  },
  {
   "cell_type": "code",
   "execution_count": 1,
   "metadata": {},
   "outputs": [],
   "source": [
    "import numpy as np\n",
    "import pandas as pd\n",
    "import random\n",
    "import torch\n",
    "import torch.nn as nn"
   ]
  },
  {
   "cell_type": "code",
   "execution_count": 3,
   "metadata": {},
   "outputs": [],
   "source": [
    "def set_seeds(seed=1234):\n",
    "    \"\"\"Set seeds for reproducibility.\"\"\"\n",
    "    np.random.seed(seed)\n",
    "    random.seed(seed)\n",
    "    torch.manual_seed(seed)\n",
    "    torch.cuda.manual_seed(seed)\n",
    "    torch.cuda.manual_seed_all(seed) # multi-GPU"
   ]
  },
  {
   "cell_type": "code",
   "execution_count": 4,
   "metadata": {},
   "outputs": [],
   "source": [
    "import time\n",
    "\n",
    "set_seeds(seed=int(time.time()))"
   ]
  },
  {
   "cell_type": "code",
   "execution_count": 5,
   "metadata": {},
   "outputs": [
    {
     "name": "stdout",
     "output_type": "stream",
     "text": [
      "cpu\n"
     ]
    }
   ],
   "source": [
    "# Set device\n",
    "cuda = True\n",
    "device = torch.device(\"cuda\" if (\n",
    "    torch.cuda.is_available() and cuda) else \"cpu\")\n",
    "torch.set_default_tensor_type(\"torch.FloatTensor\")\n",
    "if device.type == \"cuda\":\n",
    "    torch.set_default_tensor_type(\"torch.cuda.FloatTensor\")\n",
    "print (device)"
   ]
  },
  {
   "cell_type": "markdown",
   "metadata": {},
   "source": [
    "#### Data Pre-processing"
   ]
  },
  {
   "cell_type": "code",
   "execution_count": 21,
   "metadata": {},
   "outputs": [],
   "source": [
    "dataframe = pd.read_csv(r\"fashion-and-beauty-reviews\\review_train.tsv\", sep='\\t', header=0)"
   ]
  },
  {
   "cell_type": "code",
   "execution_count": 22,
   "metadata": {},
   "outputs": [],
   "source": [
    "# Randomize/Shuffle order of all records in the dataset\n",
    "dataframe = dataframe.sample(n=5).reset_index(drop=True)\n"
   ]
  },
  {
   "cell_type": "code",
   "execution_count": 23,
   "metadata": {},
   "outputs": [
    {
     "data": {
      "text/html": [
       "<div>\n",
       "<style scoped>\n",
       "    .dataframe tbody tr th:only-of-type {\n",
       "        vertical-align: middle;\n",
       "    }\n",
       "\n",
       "    .dataframe tbody tr th {\n",
       "        vertical-align: top;\n",
       "    }\n",
       "\n",
       "    .dataframe thead th {\n",
       "        text-align: right;\n",
       "    }\n",
       "</style>\n",
       "<table border=\"1\" class=\"dataframe\">\n",
       "  <thead>\n",
       "    <tr style=\"text-align: right;\">\n",
       "      <th></th>\n",
       "      <th>rating</th>\n",
       "      <th>review</th>\n",
       "      <th>summary</th>\n",
       "      <th>product</th>\n",
       "      <th>reviewer</th>\n",
       "    </tr>\n",
       "  </thead>\n",
       "  <tbody>\n",
       "    <tr>\n",
       "      <th>0</th>\n",
       "      <td>5.0</td>\n",
       "      <td>These were the perfect size for me.</td>\n",
       "      <td>Five Stars</td>\n",
       "      <td>B01B8QQ0CQ</td>\n",
       "      <td>A3ALU04HA80MW9</td>\n",
       "    </tr>\n",
       "    <tr>\n",
       "      <th>1</th>\n",
       "      <td>4.0</td>\n",
       "      <td>It's one of those items that I never knew I ne...</td>\n",
       "      <td>Well made, sturdy.</td>\n",
       "      <td>B002GP80EU</td>\n",
       "      <td>A2N75ADJSRW0AH</td>\n",
       "    </tr>\n",
       "    <tr>\n",
       "      <th>2</th>\n",
       "      <td>5.0</td>\n",
       "      <td>I love them so much... they look too cute on m...</td>\n",
       "      <td>Five Stars</td>\n",
       "      <td>B00LKWYX2I</td>\n",
       "      <td>A2N0D6FR7I3T8V</td>\n",
       "    </tr>\n",
       "    <tr>\n",
       "      <th>3</th>\n",
       "      <td>5.0</td>\n",
       "      <td>I liked these so much I bought more! The littl...</td>\n",
       "      <td>I liked these so much I bought more</td>\n",
       "      <td>B01C79TFDY</td>\n",
       "      <td>A2UTB1578ZSX6J</td>\n",
       "    </tr>\n",
       "    <tr>\n",
       "      <th>4</th>\n",
       "      <td>4.0</td>\n",
       "      <td>ITEM IS AS DESCRIBED.</td>\n",
       "      <td>Four Stars</td>\n",
       "      <td>B00PIPNPKY</td>\n",
       "      <td>A3NQ03DMPFQ88B</td>\n",
       "    </tr>\n",
       "  </tbody>\n",
       "</table>\n",
       "</div>"
      ],
      "text/plain": [
       "   rating                                             review  \\\n",
       "0     5.0                These were the perfect size for me.   \n",
       "1     4.0  It's one of those items that I never knew I ne...   \n",
       "2     5.0  I love them so much... they look too cute on m...   \n",
       "3     5.0  I liked these so much I bought more! The littl...   \n",
       "4     4.0                              ITEM IS AS DESCRIBED.   \n",
       "\n",
       "                               summary     product        reviewer  \n",
       "0                           Five Stars  B01B8QQ0CQ  A3ALU04HA80MW9  \n",
       "1                   Well made, sturdy.  B002GP80EU  A2N75ADJSRW0AH  \n",
       "2                           Five Stars  B00LKWYX2I  A2N0D6FR7I3T8V  \n",
       "3  I liked these so much I bought more  B01C79TFDY  A2UTB1578ZSX6J  \n",
       "4                           Four Stars  B00PIPNPKY  A3NQ03DMPFQ88B  "
      ]
     },
     "execution_count": 23,
     "metadata": {},
     "output_type": "execute_result"
    }
   ],
   "source": [
    "dataframe.head()"
   ]
  },
  {
   "cell_type": "code",
   "execution_count": 24,
   "metadata": {},
   "outputs": [],
   "source": [
    "# Remove product and reviewer information and combine review and summary into one column\n",
    "dataframe.drop(['product', 'reviewer'], axis=1, inplace=True)\n",
    "dataframe['text'] = dataframe['summary'] + ' ' +dataframe['review']\n",
    "dataframe.drop(['review', 'summary'], axis=1, inplace=True)"
   ]
  },
  {
   "cell_type": "code",
   "execution_count": 25,
   "metadata": {},
   "outputs": [
    {
     "data": {
      "text/html": [
       "<div>\n",
       "<style scoped>\n",
       "    .dataframe tbody tr th:only-of-type {\n",
       "        vertical-align: middle;\n",
       "    }\n",
       "\n",
       "    .dataframe tbody tr th {\n",
       "        vertical-align: top;\n",
       "    }\n",
       "\n",
       "    .dataframe thead th {\n",
       "        text-align: right;\n",
       "    }\n",
       "</style>\n",
       "<table border=\"1\" class=\"dataframe\">\n",
       "  <thead>\n",
       "    <tr style=\"text-align: right;\">\n",
       "      <th></th>\n",
       "      <th>rating</th>\n",
       "      <th>text</th>\n",
       "    </tr>\n",
       "  </thead>\n",
       "  <tbody>\n",
       "    <tr>\n",
       "      <th>0</th>\n",
       "      <td>5.0</td>\n",
       "      <td>Five Stars These were the perfect size for me.</td>\n",
       "    </tr>\n",
       "    <tr>\n",
       "      <th>1</th>\n",
       "      <td>4.0</td>\n",
       "      <td>Well made, sturdy. It's one of those items tha...</td>\n",
       "    </tr>\n",
       "    <tr>\n",
       "      <th>2</th>\n",
       "      <td>5.0</td>\n",
       "      <td>Five Stars I love them so much... they look to...</td>\n",
       "    </tr>\n",
       "    <tr>\n",
       "      <th>3</th>\n",
       "      <td>5.0</td>\n",
       "      <td>I liked these so much I bought more I liked th...</td>\n",
       "    </tr>\n",
       "    <tr>\n",
       "      <th>4</th>\n",
       "      <td>4.0</td>\n",
       "      <td>Four Stars ITEM IS AS DESCRIBED.</td>\n",
       "    </tr>\n",
       "  </tbody>\n",
       "</table>\n",
       "</div>"
      ],
      "text/plain": [
       "   rating                                               text\n",
       "0     5.0     Five Stars These were the perfect size for me.\n",
       "1     4.0  Well made, sturdy. It's one of those items tha...\n",
       "2     5.0  Five Stars I love them so much... they look to...\n",
       "3     5.0  I liked these so much I bought more I liked th...\n",
       "4     4.0                   Four Stars ITEM IS AS DESCRIBED."
      ]
     },
     "execution_count": 25,
     "metadata": {},
     "output_type": "execute_result"
    }
   ],
   "source": [
    "dataframe.head()"
   ]
  },
  {
   "cell_type": "code",
   "execution_count": null,
   "metadata": {},
   "outputs": [],
   "source": [
    "%pip install contractions\n",
    "%pip install nltk\n",
    "%pip install inflect"
   ]
  },
  {
   "cell_type": "code",
   "execution_count": 62,
   "metadata": {},
   "outputs": [
    {
     "name": "stderr",
     "output_type": "stream",
     "text": [
      "[nltk_data] Downloading package punkt to\n",
      "[nltk_data]     C:\\Users\\cpani\\AppData\\Roaming\\nltk_data...\n",
      "[nltk_data]   Package punkt is already up-to-date!\n",
      "[nltk_data] Downloading package stopwords to\n",
      "[nltk_data]     C:\\Users\\cpani\\AppData\\Roaming\\nltk_data...\n",
      "[nltk_data]   Package stopwords is already up-to-date!\n",
      "[nltk_data] Downloading package wordnet to\n",
      "[nltk_data]     C:\\Users\\cpani\\AppData\\Roaming\\nltk_data...\n",
      "[nltk_data]   Package wordnet is already up-to-date!\n",
      "[nltk_data] Downloading package omw-1.4 to\n",
      "[nltk_data]     C:\\Users\\cpani\\AppData\\Roaming\\nltk_data...\n",
      "[nltk_data]   Package omw-1.4 is already up-to-date!\n"
     ]
    }
   ],
   "source": [
    "import re\n",
    "from string import punctuation\n",
    "import nltk\n",
    "from nltk.corpus import stopwords\n",
    "from nltk.stem import WordNetLemmatizer\n",
    "import contractions\n",
    "import inflect\n",
    "\n",
    "nltk.download('punkt')\n",
    "nltk.download('stopwords')\n",
    "nltk.download('wordnet')\n",
    "nltk.download('omw-1.4')\n",
    "stop_words = set(stopwords.words('english')) - {'against', 'few', 'more', 'no', 'nor', 'not', 'very'}\n",
    "lemma = WordNetLemmatizer()"
   ]
  },
  {
   "cell_type": "code",
   "execution_count": 63,
   "metadata": {},
   "outputs": [],
   "source": [
    "def process(text):\n",
    "   text = re.sub(r'http\\S+', '', text)             # Remove links\n",
    "   text = re.sub(r\"\\([^)]*\\)\", \"\", text)           # Remove word within brackets\n",
    "   text = re.sub(f'[{punctuation}]', '', text)     # Remove punctuation\n",
    "      \n",
    "   # If number and word are combined seperate with space\n",
    "   text = re.sub(r'(\\d*)(\\D+)(\\d*)', r'\\1 \\2 \\3', text)\n",
    "   \n",
    "   text = re.sub(\" +\", \" \", text)                  # Remove multiple spacing\n",
    "   text = text.strip()\n",
    "   \n",
    "   text = text.lower()                             # Convert to lowercase\n",
    "   text = contractions.fix(text)                   # Contraction replacement\n",
    "   \n",
    "   tokens = nltk.word_tokenize(text)               # Tokenize\n",
    "   \n",
    "   # Convert all numbeers to words\n",
    "   for index, token in enumerate(tokens):\n",
    "      if token.isdigit():\n",
    "         tokens[index] = inflect.engine().number_to_words(token)\n",
    "   \n",
    "   # Remove stopwords\n",
    "   tokens = [token for token in tokens if token not in stop_words]\n",
    "   \n",
    "   # Lemmatization\n",
    "   tokens = [lemma.lemmatize(token, pos='v') for token in tokens]\n",
    "   \n",
    "   text = ' '.join(tokens)\n",
    "   \n",
    "   return text"
   ]
  },
  {
   "cell_type": "code",
   "execution_count": 64,
   "metadata": {},
   "outputs": [
    {
     "data": {
      "text/plain": [
       "'fneis not bad site learn two things learn lot'"
      ]
     },
     "execution_count": 64,
     "metadata": {},
     "output_type": "execute_result"
    }
   ],
   "source": [
    "text = \"https://analyticsindiamag.com/complete-tutorial-on-text-preprocessing-in-nlp/ (the website)    FNEIS wasn't a bad site to learn2 things. I have learnt a lot\"\n",
    "process(text)"
   ]
  }
 ],
 "metadata": {
  "kernelspec": {
   "display_name": "Python 3.10.2 64-bit",
   "language": "python",
   "name": "python3"
  },
  "language_info": {
   "codemirror_mode": {
    "name": "ipython",
    "version": 3
   },
   "file_extension": ".py",
   "mimetype": "text/x-python",
   "name": "python",
   "nbconvert_exporter": "python",
   "pygments_lexer": "ipython3",
   "version": "3.10.2"
  },
  "orig_nbformat": 4,
  "vscode": {
   "interpreter": {
    "hash": "7f2c6d96787cba19ceb301b0ff1d01f982e1c2f8b515f24385efde571fabf7c9"
   }
  }
 },
 "nbformat": 4,
 "nbformat_minor": 2
}
