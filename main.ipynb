{
 "cells": [
  {
   "cell_type": "markdown",
   "metadata": {},
   "source": [
    "## **The International Society of Data Scientists - NLP Track**\n",
    "#### **Fashion and Beauty Review Rating - The 3rd Annual International Data Science & AI Competition 2022**\n",
    "\n",
    "\n",
    "Predict how satisfied customers are based on their product reviews, to help with insight in fashion and beauty products."
   ]
  },
  {
   "cell_type": "markdown",
   "metadata": {},
   "source": [
    "#### Downloading Datasets"
   ]
  },
  {
   "cell_type": "code",
   "execution_count": null,
   "metadata": {},
   "outputs": [],
   "source": [
    "%pip install opendatasets"
   ]
  },
  {
   "cell_type": "code",
   "execution_count": 1,
   "metadata": {},
   "outputs": [
    {
     "name": "stdout",
     "output_type": "stream",
     "text": [
      "Please provide your Kaggle credentials to download this dataset. Learn more: http://bit.ly/kaggle-creds\n",
      "Your Kaggle username:Your Kaggle Key:"
     ]
    },
    {
     "name": "stderr",
     "output_type": "stream",
     "text": [
      "c:\\Users\\cpani\\AppData\\Local\\Programs\\Python\\Python310\\lib\\site-packages\\cryptography\\hazmat\\backends\\openssl\\x509.py:14: CryptographyDeprecationWarning: This version of cryptography contains a temporary pyOpenSSL fallback path. Upgrade pyOpenSSL now.\n",
      "  warnings.warn(\n"
     ]
    },
    {
     "name": "stdout",
     "output_type": "stream",
     "text": [
      "Downloading fashion-and-beauty-reviews.zip to .\\fashion-and-beauty-reviews\n"
     ]
    },
    {
     "name": "stderr",
     "output_type": "stream",
     "text": [
      "100%|██████████| 112M/112M [00:28<00:00, 4.15MB/s] "
     ]
    },
    {
     "name": "stdout",
     "output_type": "stream",
     "text": [
      "\n",
      "Extracting archive .\\fashion-and-beauty-reviews/fashion-and-beauty-reviews.zip to .\\fashion-and-beauty-reviews\n"
     ]
    },
    {
     "name": "stderr",
     "output_type": "stream",
     "text": [
      "\n"
     ]
    }
   ],
   "source": [
    "import opendatasets as od\n",
    "od.download(\"https://www.kaggle.com/competitions/fashion-and-beauty-reviews\")"
   ]
  },
  {
   "cell_type": "markdown",
   "metadata": {},
   "source": [
    "#### Working with the Dataset"
   ]
  },
  {
   "cell_type": "code",
   "execution_count": null,
   "metadata": {},
   "outputs": [],
   "source": [
    "%pip install pandas\n",
    "%pip install numpy\n",
    "%pip install torch"
   ]
  },
  {
   "cell_type": "code",
   "execution_count": 1,
   "metadata": {},
   "outputs": [],
   "source": [
    "import pandas as pd\n",
    "import numpy as np"
   ]
  },
  {
   "cell_type": "code",
   "execution_count": 2,
   "metadata": {},
   "outputs": [],
   "source": [
    "dataframe = pd.read_csv(r\"fashion-and-beauty-reviews\\review_train.tsv\", sep='\\t', header=0)"
   ]
  },
  {
   "cell_type": "code",
   "execution_count": 3,
   "metadata": {},
   "outputs": [
    {
     "data": {
      "text/html": [
       "<div>\n",
       "<style scoped>\n",
       "    .dataframe tbody tr th:only-of-type {\n",
       "        vertical-align: middle;\n",
       "    }\n",
       "\n",
       "    .dataframe tbody tr th {\n",
       "        vertical-align: top;\n",
       "    }\n",
       "\n",
       "    .dataframe thead th {\n",
       "        text-align: right;\n",
       "    }\n",
       "</style>\n",
       "<table border=\"1\" class=\"dataframe\">\n",
       "  <thead>\n",
       "    <tr style=\"text-align: right;\">\n",
       "      <th></th>\n",
       "      <th>rating</th>\n",
       "      <th>review</th>\n",
       "      <th>summary</th>\n",
       "      <th>product</th>\n",
       "      <th>reviewer</th>\n",
       "    </tr>\n",
       "  </thead>\n",
       "  <tbody>\n",
       "    <tr>\n",
       "      <th>0</th>\n",
       "      <td>4.0</td>\n",
       "      <td>I received this cream about 8 days ago and hav...</td>\n",
       "      <td>Thought this cream was making me sick...</td>\n",
       "      <td>B00DKEQYJY</td>\n",
       "      <td>A3IQA3VVDHGAK1</td>\n",
       "    </tr>\n",
       "    <tr>\n",
       "      <th>1</th>\n",
       "      <td>5.0</td>\n",
       "      <td>Beautiful pieces</td>\n",
       "      <td>Five Stars</td>\n",
       "      <td>B00L4JJKH0</td>\n",
       "      <td>A1QWCVZMSYG1N2</td>\n",
       "    </tr>\n",
       "    <tr>\n",
       "      <th>2</th>\n",
       "      <td>5.0</td>\n",
       "      <td>Really impressive tree. It goes together quick...</td>\n",
       "      <td>Highly recommended</td>\n",
       "      <td>1620213982</td>\n",
       "      <td>A2QRLRHMFDJ25E</td>\n",
       "    </tr>\n",
       "    <tr>\n",
       "      <th>3</th>\n",
       "      <td>4.0</td>\n",
       "      <td>good</td>\n",
       "      <td>Four Stars</td>\n",
       "      <td>B01D2J35BG</td>\n",
       "      <td>A2MMO1P2ZNEUNF</td>\n",
       "    </tr>\n",
       "    <tr>\n",
       "      <th>4</th>\n",
       "      <td>5.0</td>\n",
       "      <td>Gift for granddaughter.  She loved it.</td>\n",
       "      <td>Cool looking umbrella.</td>\n",
       "      <td>B01422IQD4</td>\n",
       "      <td>A1WXKDA47VPOFT</td>\n",
       "    </tr>\n",
       "  </tbody>\n",
       "</table>\n",
       "</div>"
      ],
      "text/plain": [
       "   rating                                             review  \\\n",
       "0     4.0  I received this cream about 8 days ago and hav...   \n",
       "1     5.0                                   Beautiful pieces   \n",
       "2     5.0  Really impressive tree. It goes together quick...   \n",
       "3     4.0                                               good   \n",
       "4     5.0             Gift for granddaughter.  She loved it.   \n",
       "\n",
       "                                    summary     product        reviewer  \n",
       "0  Thought this cream was making me sick...  B00DKEQYJY  A3IQA3VVDHGAK1  \n",
       "1                                Five Stars  B00L4JJKH0  A1QWCVZMSYG1N2  \n",
       "2                        Highly recommended  1620213982  A2QRLRHMFDJ25E  \n",
       "3                                Four Stars  B01D2J35BG  A2MMO1P2ZNEUNF  \n",
       "4                    Cool looking umbrella.  B01422IQD4  A1WXKDA47VPOFT  "
      ]
     },
     "execution_count": 3,
     "metadata": {},
     "output_type": "execute_result"
    }
   ],
   "source": [
    "dataframe.head()"
   ]
  },
  {
   "cell_type": "markdown",
   "metadata": {},
   "source": [
    "##### Simple Analysis"
   ]
  },
  {
   "cell_type": "code",
   "execution_count": 4,
   "metadata": {},
   "outputs": [
    {
     "data": {
      "text/plain": [
       "(1003984, 5)"
      ]
     },
     "execution_count": 4,
     "metadata": {},
     "output_type": "execute_result"
    }
   ],
   "source": [
    "dataframe.shape"
   ]
  },
  {
   "cell_type": "code",
   "execution_count": 5,
   "metadata": {},
   "outputs": [
    {
     "name": "stdout",
     "output_type": "stream",
     "text": [
      "Possible ratings : [1. 2. 3. 4. 5.]\n"
     ]
    }
   ],
   "source": [
    "print(f\"Possible ratings : {np.sort(dataframe['rating'].unique())}\")"
   ]
  },
  {
   "cell_type": "code",
   "execution_count": 6,
   "metadata": {},
   "outputs": [
    {
     "name": "stdout",
     "output_type": "stream",
     "text": [
      "Longest string in 'review' is record# 788873 of length 13741\n",
      "Shortest string in 'review' is record# 9398 of length 1\n",
      "Longest string in 'summary' is record# 800077 of length 267\n",
      "Shortest string in 'summary' is record# 2321 of length 1\n"
     ]
    }
   ],
   "source": [
    "for col in ['review', 'summary']:\n",
    "      print(f\"Longest string in '{col}' is record# {dataframe[col].str.len().argmax()} \"\n",
    "            f\"of length {len(dataframe.iloc[dataframe[col].str.len().argmax()][col])}\")\n",
    "\n",
    "      print(f\"Shortest string in '{col}' is record# {dataframe[col].str.len().argmin()} \"\n",
    "            f\"of length {len(dataframe.iloc[dataframe[col].str.len().argmin()][col])}\")"
   ]
  },
  {
   "cell_type": "code",
   "execution_count": 7,
   "metadata": {},
   "outputs": [
    {
     "data": {
      "text/plain": [
       "rating         0\n",
       "review      1304\n",
       "summary      597\n",
       "product        0\n",
       "reviewer       0\n",
       "dtype: int64"
      ]
     },
     "execution_count": 7,
     "metadata": {},
     "output_type": "execute_result"
    }
   ],
   "source": [
    "dataframe.isna().sum()"
   ]
  },
  {
   "cell_type": "markdown",
   "metadata": {},
   "source": [
    "#### Set up"
   ]
  },
  {
   "cell_type": "code",
   "execution_count": 8,
   "metadata": {},
   "outputs": [],
   "source": [
    "import numpy as np\n",
    "import pandas as pd\n",
    "import random\n",
    "import torch\n",
    "import torch.nn as nn"
   ]
  },
  {
   "cell_type": "code",
   "execution_count": 9,
   "metadata": {},
   "outputs": [],
   "source": [
    "def set_seeds(seed=1234):\n",
    "    \"\"\"Set seeds for reproducibility.\"\"\"\n",
    "    np.random.seed(seed)\n",
    "    random.seed(seed)\n",
    "    torch.manual_seed(seed)\n",
    "    torch.cuda.manual_seed(seed)\n",
    "    torch.cuda.manual_seed_all(seed) # multi-GPU"
   ]
  },
  {
   "cell_type": "code",
   "execution_count": 10,
   "metadata": {},
   "outputs": [],
   "source": [
    "import time\n",
    "\n",
    "set_seeds(seed=int(time.time()))"
   ]
  },
  {
   "cell_type": "code",
   "execution_count": 11,
   "metadata": {},
   "outputs": [
    {
     "name": "stdout",
     "output_type": "stream",
     "text": [
      "cpu\n"
     ]
    }
   ],
   "source": [
    "# Set device\n",
    "cuda = True\n",
    "device = torch.device(\"cuda\" if (\n",
    "    torch.cuda.is_available() and cuda) else \"cpu\")\n",
    "torch.set_default_tensor_type(\"torch.FloatTensor\")\n",
    "if device.type == \"cuda\":\n",
    "    torch.set_default_tensor_type(\"torch.cuda.FloatTensor\")\n",
    "print (device)"
   ]
  },
  {
   "cell_type": "markdown",
   "metadata": {},
   "source": [
    "#### Data Pre-processing"
   ]
  },
  {
   "cell_type": "code",
   "execution_count": 28,
   "metadata": {},
   "outputs": [],
   "source": [
    "dataframe = pd.read_csv(r\"fashion-and-beauty-reviews\\review_train.tsv\", sep='\\t', header=0)"
   ]
  },
  {
   "cell_type": "code",
   "execution_count": 12,
   "metadata": {},
   "outputs": [],
   "source": [
    "# Randomize/Shuffle order of all records in the dataset\n",
    "dataframe = dataframe.sample(frac=1).reset_index(drop=True)"
   ]
  },
  {
   "cell_type": "code",
   "execution_count": 13,
   "metadata": {},
   "outputs": [
    {
     "data": {
      "text/html": [
       "<div>\n",
       "<style scoped>\n",
       "    .dataframe tbody tr th:only-of-type {\n",
       "        vertical-align: middle;\n",
       "    }\n",
       "\n",
       "    .dataframe tbody tr th {\n",
       "        vertical-align: top;\n",
       "    }\n",
       "\n",
       "    .dataframe thead th {\n",
       "        text-align: right;\n",
       "    }\n",
       "</style>\n",
       "<table border=\"1\" class=\"dataframe\">\n",
       "  <thead>\n",
       "    <tr style=\"text-align: right;\">\n",
       "      <th></th>\n",
       "      <th>rating</th>\n",
       "      <th>review</th>\n",
       "      <th>summary</th>\n",
       "      <th>product</th>\n",
       "      <th>reviewer</th>\n",
       "    </tr>\n",
       "  </thead>\n",
       "  <tbody>\n",
       "    <tr>\n",
       "      <th>0</th>\n",
       "      <td>5.0</td>\n",
       "      <td>fabric is easy care.  am 5'3.  hits me about 2...</td>\n",
       "      <td>great flip skirt for ballroom dancing</td>\n",
       "      <td>B00GN72LYC</td>\n",
       "      <td>A26ZA7I89DN029</td>\n",
       "    </tr>\n",
       "    <tr>\n",
       "      <th>1</th>\n",
       "      <td>5.0</td>\n",
       "      <td>NaN</td>\n",
       "      <td>Five Stars</td>\n",
       "      <td>B00UAWE978</td>\n",
       "      <td>A3P3UITN9EQIW4</td>\n",
       "    </tr>\n",
       "    <tr>\n",
       "      <th>2</th>\n",
       "      <td>5.0</td>\n",
       "      <td>Got this for my mom. She loved it. It is reall...</td>\n",
       "      <td>She loved it. It is really cute</td>\n",
       "      <td>B00OB8WRBW</td>\n",
       "      <td>A226AVPBKYZUU0</td>\n",
       "    </tr>\n",
       "    <tr>\n",
       "      <th>3</th>\n",
       "      <td>5.0</td>\n",
       "      <td>Great product.  Great seller</td>\n",
       "      <td>Five Stars</td>\n",
       "      <td>B00FGCU5M0</td>\n",
       "      <td>A2JL10RY5CI9AM</td>\n",
       "    </tr>\n",
       "    <tr>\n",
       "      <th>4</th>\n",
       "      <td>5.0</td>\n",
       "      <td>I love this necklace. It's so pretty and looks...</td>\n",
       "      <td>I love this necklace</td>\n",
       "      <td>B01ADTLECK</td>\n",
       "      <td>A2TPTTT3JVFJL6</td>\n",
       "    </tr>\n",
       "  </tbody>\n",
       "</table>\n",
       "</div>"
      ],
      "text/plain": [
       "   rating                                             review  \\\n",
       "0     5.0  fabric is easy care.  am 5'3.  hits me about 2...   \n",
       "1     5.0                                                NaN   \n",
       "2     5.0  Got this for my mom. She loved it. It is reall...   \n",
       "3     5.0                       Great product.  Great seller   \n",
       "4     5.0  I love this necklace. It's so pretty and looks...   \n",
       "\n",
       "                                 summary     product        reviewer  \n",
       "0  great flip skirt for ballroom dancing  B00GN72LYC  A26ZA7I89DN029  \n",
       "1                             Five Stars  B00UAWE978  A3P3UITN9EQIW4  \n",
       "2        She loved it. It is really cute  B00OB8WRBW  A226AVPBKYZUU0  \n",
       "3                             Five Stars  B00FGCU5M0  A2JL10RY5CI9AM  \n",
       "4                   I love this necklace  B01ADTLECK  A2TPTTT3JVFJL6  "
      ]
     },
     "execution_count": 13,
     "metadata": {},
     "output_type": "execute_result"
    }
   ],
   "source": [
    "dataframe.head()"
   ]
  },
  {
   "cell_type": "code",
   "execution_count": 14,
   "metadata": {},
   "outputs": [
    {
     "data": {
      "text/plain": [
       "rating    0\n",
       "text      0\n",
       "dtype: int64"
      ]
     },
     "execution_count": 14,
     "metadata": {},
     "output_type": "execute_result"
    }
   ],
   "source": [
    "# Remove product and reviewer information and combine review and summary into one column\n",
    "dataframe.drop(['product', 'reviewer'], axis=1, inplace=True)\n",
    "dataframe['text'] = dataframe['summary'] + ' ' +dataframe['review']\n",
    "dataframe.drop(['review', 'summary'], axis=1, inplace=True)\n",
    "\n",
    "dataframe.dropna(inplace=True)\n",
    "dataframe.isna().sum()"
   ]
  },
  {
   "cell_type": "code",
   "execution_count": 15,
   "metadata": {},
   "outputs": [
    {
     "data": {
      "text/html": [
       "<div>\n",
       "<style scoped>\n",
       "    .dataframe tbody tr th:only-of-type {\n",
       "        vertical-align: middle;\n",
       "    }\n",
       "\n",
       "    .dataframe tbody tr th {\n",
       "        vertical-align: top;\n",
       "    }\n",
       "\n",
       "    .dataframe thead th {\n",
       "        text-align: right;\n",
       "    }\n",
       "</style>\n",
       "<table border=\"1\" class=\"dataframe\">\n",
       "  <thead>\n",
       "    <tr style=\"text-align: right;\">\n",
       "      <th></th>\n",
       "      <th>rating</th>\n",
       "      <th>text</th>\n",
       "    </tr>\n",
       "  </thead>\n",
       "  <tbody>\n",
       "    <tr>\n",
       "      <th>0</th>\n",
       "      <td>5.0</td>\n",
       "      <td>great flip skirt for ballroom dancing fabric i...</td>\n",
       "    </tr>\n",
       "    <tr>\n",
       "      <th>2</th>\n",
       "      <td>5.0</td>\n",
       "      <td>She loved it. It is really cute Got this for m...</td>\n",
       "    </tr>\n",
       "    <tr>\n",
       "      <th>3</th>\n",
       "      <td>5.0</td>\n",
       "      <td>Five Stars Great product.  Great seller</td>\n",
       "    </tr>\n",
       "    <tr>\n",
       "      <th>4</th>\n",
       "      <td>5.0</td>\n",
       "      <td>I love this necklace I love this necklace. It'...</td>\n",
       "    </tr>\n",
       "    <tr>\n",
       "      <th>5</th>\n",
       "      <td>5.0</td>\n",
       "      <td>Worthy the money Nice jeans, true to size. I w...</td>\n",
       "    </tr>\n",
       "  </tbody>\n",
       "</table>\n",
       "</div>"
      ],
      "text/plain": [
       "   rating                                               text\n",
       "0     5.0  great flip skirt for ballroom dancing fabric i...\n",
       "2     5.0  She loved it. It is really cute Got this for m...\n",
       "3     5.0            Five Stars Great product.  Great seller\n",
       "4     5.0  I love this necklace I love this necklace. It'...\n",
       "5     5.0  Worthy the money Nice jeans, true to size. I w..."
      ]
     },
     "execution_count": 15,
     "metadata": {},
     "output_type": "execute_result"
    }
   ],
   "source": [
    "dataframe.head()"
   ]
  },
  {
   "cell_type": "code",
   "execution_count": null,
   "metadata": {},
   "outputs": [],
   "source": [
    "%pip install contractions\n",
    "%pip install nltk\n",
    "%pip install inflect"
   ]
  },
  {
   "cell_type": "code",
   "execution_count": 16,
   "metadata": {},
   "outputs": [
    {
     "name": "stderr",
     "output_type": "stream",
     "text": [
      "[nltk_data] Downloading package punkt to\n",
      "[nltk_data]     C:\\Users\\cpani\\AppData\\Roaming\\nltk_data...\n",
      "[nltk_data]   Package punkt is already up-to-date!\n",
      "[nltk_data] Downloading package stopwords to\n",
      "[nltk_data]     C:\\Users\\cpani\\AppData\\Roaming\\nltk_data...\n",
      "[nltk_data]   Package stopwords is already up-to-date!\n",
      "[nltk_data] Downloading package wordnet to\n",
      "[nltk_data]     C:\\Users\\cpani\\AppData\\Roaming\\nltk_data...\n",
      "[nltk_data]   Package wordnet is already up-to-date!\n",
      "[nltk_data] Downloading package omw-1.4 to\n",
      "[nltk_data]     C:\\Users\\cpani\\AppData\\Roaming\\nltk_data...\n",
      "[nltk_data]   Package omw-1.4 is already up-to-date!\n"
     ]
    }
   ],
   "source": [
    "import re\n",
    "from string import punctuation\n",
    "import nltk\n",
    "from nltk.corpus import stopwords\n",
    "from nltk.stem import WordNetLemmatizer\n",
    "import contractions\n",
    "import inflect\n",
    "\n",
    "nltk.download('punkt')\n",
    "nltk.download('stopwords')\n",
    "nltk.download('wordnet')\n",
    "nltk.download('omw-1.4')\n",
    "stop_words = set(stopwords.words('english')) - {'against', 'few', 'more', 'no', 'nor', 'not', 'very'}\n",
    "lemma = WordNetLemmatizer()"
   ]
  },
  {
   "cell_type": "code",
   "execution_count": 19,
   "metadata": {},
   "outputs": [],
   "source": [
    "def process(text):\n",
    "\n",
    "   text = re.sub(r'http\\S+', '', text)             # Remove links\n",
    "   text = re.sub(r\"\\([^)]*\\)\", \"\", text)           # Remove word within brackets\n",
    "   text = re.sub(f'[{punctuation}]', '', text)     # Remove punctuation\n",
    "      \n",
    "   # If number and word are combined seperate with space\n",
    "   text = re.sub(r'(\\d*)(\\D+)(\\d*)', r'\\1 \\2 \\3', text)\n",
    "   \n",
    "   text = re.sub(\" +\", \" \", text)                  # Remove multiple spacing\n",
    "   text = text.strip()\n",
    "   \n",
    "   text = text.lower()                             # Convert to lowercase\n",
    "   text = contractions.fix(text)                   # Contraction replacement\n",
    "   \n",
    "   tokens = nltk.word_tokenize(text)               # Tokenize\n",
    "   \n",
    "   # Convert all numbeers to words\n",
    "   for index, token in enumerate(tokens):\n",
    "      if token.isdigit():\n",
    "         try:\n",
    "            tokens[index] = inflect.engine().number_to_words(token)\n",
    "         except Exception:\n",
    "            print(token)\n",
    "            \n",
    "   # Remove stopwords\n",
    "   tokens = [token for token in tokens if token not in stop_words]\n",
    "   \n",
    "   # Lemmatization\n",
    "   tokens = [lemma.lemmatize(token, pos='v') for token in tokens]\n",
    "   \n",
    "   text = ' '.join(tokens)\n",
    "   \n",
    "   return text"
   ]
  },
  {
   "cell_type": "code",
   "execution_count": 20,
   "metadata": {},
   "outputs": [
    {
     "name": "stdout",
     "output_type": "stream",
     "text": [
      "7791793621055041073741832752334614789979\n",
      "4666286801020021073741825353887201376151820146361416897\n"
     ]
    }
   ],
   "source": [
    "dataframe['text'] = dataframe['text'].apply(process)"
   ]
  },
  {
   "cell_type": "code",
   "execution_count": 21,
   "metadata": {},
   "outputs": [],
   "source": [
    "dataframe.to_csv(r\"fashion-and-beauty-reviews\\review_train_processed.tsv\", sep='\\t')"
   ]
  },
  {
   "cell_type": "markdown",
   "metadata": {},
   "source": [
    "#### Data Split"
   ]
  },
  {
   "cell_type": "code",
   "execution_count": null,
   "metadata": {},
   "outputs": [],
   "source": [
    "%pip install sklearn"
   ]
  },
  {
   "cell_type": "code",
   "execution_count": 23,
   "metadata": {},
   "outputs": [],
   "source": [
    "import collections\n",
    "from sklearn.model_selection import train_test_split"
   ]
  },
  {
   "cell_type": "code",
   "execution_count": 24,
   "metadata": {},
   "outputs": [],
   "source": [
    "# Configure for 80% data to be for training and the rest for validation here.\n",
    "\n",
    "TRAIN_SIZE = 0.8\n",
    "VAL_SIZE = 0.2"
   ]
  },
  {
   "cell_type": "code",
   "execution_count": 25,
   "metadata": {},
   "outputs": [],
   "source": [
    "# Data\n",
    "X = dataframe['text'].values\n",
    "y = dataframe['rating'].values"
   ]
  },
  {
   "cell_type": "code",
   "execution_count": 26,
   "metadata": {},
   "outputs": [],
   "source": [
    "X_train, X_val, y_train, y_val = train_test_split(X, y, train_size=TRAIN_SIZE, stratify=y)"
   ]
  },
  {
   "cell_type": "code",
   "execution_count": 28,
   "metadata": {},
   "outputs": [
    {
     "name": "stdout",
     "output_type": "stream",
     "text": [
      "X_train: (801696,), y_train: (801696,)\n",
      "X_val: (200425,), y_val: (200425,)\n"
     ]
    }
   ],
   "source": [
    "print (f\"X_train: {X_train.shape}, y_train: {y_train.shape}\")\n",
    "print (f\"X_val: {X_val.shape}, y_val: {y_val.shape}\")"
   ]
  },
  {
   "cell_type": "markdown",
   "metadata": {},
   "source": [
    "#### Label Encoding"
   ]
  },
  {
   "cell_type": "code",
   "execution_count": 31,
   "metadata": {},
   "outputs": [
    {
     "data": {
      "text/plain": [
       "rating    float64\n",
       "text       object\n",
       "dtype: object"
      ]
     },
     "execution_count": 31,
     "metadata": {},
     "output_type": "execute_result"
    }
   ],
   "source": [
    "dataframe.dtypes"
   ]
  },
  {
   "cell_type": "markdown",
   "metadata": {},
   "source": [
    "The point of label encoding is to convert any labels assigned to the output classes to an integer value. However, since this dataset has the output values as numbers already we can convert them to int from float."
   ]
  },
  {
   "cell_type": "code",
   "execution_count": 32,
   "metadata": {},
   "outputs": [],
   "source": [
    "dataframe['rating'] = dataframe['rating'].astype(np.int64)"
   ]
  },
  {
   "cell_type": "code",
   "execution_count": 33,
   "metadata": {},
   "outputs": [
    {
     "data": {
      "text/plain": [
       "rating     int64\n",
       "text      object\n",
       "dtype: object"
      ]
     },
     "execution_count": 33,
     "metadata": {},
     "output_type": "execute_result"
    }
   ],
   "source": [
    "dataframe.dtypes"
   ]
  }
 ],
 "metadata": {
  "kernelspec": {
   "display_name": "Python 3.10.2 64-bit",
   "language": "python",
   "name": "python3"
  },
  "language_info": {
   "codemirror_mode": {
    "name": "ipython",
    "version": 3
   },
   "file_extension": ".py",
   "mimetype": "text/x-python",
   "name": "python",
   "nbconvert_exporter": "python",
   "pygments_lexer": "ipython3",
   "version": "3.10.2"
  },
  "orig_nbformat": 4,
  "vscode": {
   "interpreter": {
    "hash": "7f2c6d96787cba19ceb301b0ff1d01f982e1c2f8b515f24385efde571fabf7c9"
   }
  }
 },
 "nbformat": 4,
 "nbformat_minor": 2
}
