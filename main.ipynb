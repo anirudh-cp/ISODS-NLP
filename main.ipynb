{
 "cells": [
  {
   "cell_type": "markdown",
   "metadata": {},
   "source": [
    "## **The International Society of Data Scientists - NLP Track**\n",
    "#### **Fashion and Beauty Review Rating - The 3rd Annual International Data Science & AI Competition 2022**\n",
    "\n",
    "\n",
    "Predict how satisfied customers are based on their product reviews, to help with insight in fashion and beauty products."
   ]
  },
  {
   "cell_type": "markdown",
   "metadata": {},
   "source": [
    "#### Donwloading Datasets"
   ]
  },
  {
   "cell_type": "code",
   "execution_count": null,
   "metadata": {},
   "outputs": [],
   "source": [
    "%pip install opendatasets"
   ]
  },
  {
   "cell_type": "code",
   "execution_count": 1,
   "metadata": {},
   "outputs": [
    {
     "name": "stdout",
     "output_type": "stream",
     "text": [
      "Please provide your Kaggle credentials to download this dataset. Learn more: http://bit.ly/kaggle-creds\n",
      "Your Kaggle username:Your Kaggle Key:"
     ]
    },
    {
     "name": "stderr",
     "output_type": "stream",
     "text": [
      "c:\\Users\\cpani\\AppData\\Local\\Programs\\Python\\Python310\\lib\\site-packages\\cryptography\\hazmat\\backends\\openssl\\x509.py:14: CryptographyDeprecationWarning: This version of cryptography contains a temporary pyOpenSSL fallback path. Upgrade pyOpenSSL now.\n",
      "  warnings.warn(\n"
     ]
    },
    {
     "name": "stdout",
     "output_type": "stream",
     "text": [
      "Downloading fashion-and-beauty-reviews.zip to .\\fashion-and-beauty-reviews\n"
     ]
    },
    {
     "name": "stderr",
     "output_type": "stream",
     "text": [
      "100%|██████████| 112M/112M [00:28<00:00, 4.15MB/s] "
     ]
    },
    {
     "name": "stdout",
     "output_type": "stream",
     "text": [
      "\n",
      "Extracting archive .\\fashion-and-beauty-reviews/fashion-and-beauty-reviews.zip to .\\fashion-and-beauty-reviews\n"
     ]
    },
    {
     "name": "stderr",
     "output_type": "stream",
     "text": [
      "\n"
     ]
    }
   ],
   "source": [
    "import opendatasets as od\n",
    "od.download(\"https://www.kaggle.com/competitions/fashion-and-beauty-reviews\")"
   ]
  },
  {
   "cell_type": "markdown",
   "metadata": {},
   "source": [
    "#### Creating Dataloaders"
   ]
  },
  {
   "cell_type": "code",
   "execution_count": null,
   "metadata": {},
   "outputs": [],
   "source": [
    "%pip install pandas\n",
    "%pip install numpy"
   ]
  },
  {
   "cell_type": "code",
   "execution_count": 2,
   "metadata": {},
   "outputs": [],
   "source": [
    "import pandas as pd"
   ]
  },
  {
   "cell_type": "code",
   "execution_count": 10,
   "metadata": {},
   "outputs": [],
   "source": [
    "dataframe = pd.read_csv(r\"fashion-and-beauty-reviews\\review_train.tsv\", sep='\\t', header=0)"
   ]
  },
  {
   "cell_type": "code",
   "execution_count": 11,
   "metadata": {},
   "outputs": [
    {
     "data": {
      "text/html": [
       "<div>\n",
       "<style scoped>\n",
       "    .dataframe tbody tr th:only-of-type {\n",
       "        vertical-align: middle;\n",
       "    }\n",
       "\n",
       "    .dataframe tbody tr th {\n",
       "        vertical-align: top;\n",
       "    }\n",
       "\n",
       "    .dataframe thead th {\n",
       "        text-align: right;\n",
       "    }\n",
       "</style>\n",
       "<table border=\"1\" class=\"dataframe\">\n",
       "  <thead>\n",
       "    <tr style=\"text-align: right;\">\n",
       "      <th></th>\n",
       "      <th>rating</th>\n",
       "      <th>review</th>\n",
       "      <th>summary</th>\n",
       "      <th>product</th>\n",
       "      <th>reviewer</th>\n",
       "    </tr>\n",
       "  </thead>\n",
       "  <tbody>\n",
       "    <tr>\n",
       "      <th>0</th>\n",
       "      <td>4.0</td>\n",
       "      <td>I received this cream about 8 days ago and hav...</td>\n",
       "      <td>Thought this cream was making me sick...</td>\n",
       "      <td>B00DKEQYJY</td>\n",
       "      <td>A3IQA3VVDHGAK1</td>\n",
       "    </tr>\n",
       "    <tr>\n",
       "      <th>1</th>\n",
       "      <td>5.0</td>\n",
       "      <td>Beautiful pieces</td>\n",
       "      <td>Five Stars</td>\n",
       "      <td>B00L4JJKH0</td>\n",
       "      <td>A1QWCVZMSYG1N2</td>\n",
       "    </tr>\n",
       "    <tr>\n",
       "      <th>2</th>\n",
       "      <td>5.0</td>\n",
       "      <td>Really impressive tree. It goes together quick...</td>\n",
       "      <td>Highly recommended</td>\n",
       "      <td>1620213982</td>\n",
       "      <td>A2QRLRHMFDJ25E</td>\n",
       "    </tr>\n",
       "    <tr>\n",
       "      <th>3</th>\n",
       "      <td>4.0</td>\n",
       "      <td>good</td>\n",
       "      <td>Four Stars</td>\n",
       "      <td>B01D2J35BG</td>\n",
       "      <td>A2MMO1P2ZNEUNF</td>\n",
       "    </tr>\n",
       "    <tr>\n",
       "      <th>4</th>\n",
       "      <td>5.0</td>\n",
       "      <td>Gift for granddaughter.  She loved it.</td>\n",
       "      <td>Cool looking umbrella.</td>\n",
       "      <td>B01422IQD4</td>\n",
       "      <td>A1WXKDA47VPOFT</td>\n",
       "    </tr>\n",
       "  </tbody>\n",
       "</table>\n",
       "</div>"
      ],
      "text/plain": [
       "   rating                                             review  \\\n",
       "0     4.0  I received this cream about 8 days ago and hav...   \n",
       "1     5.0                                   Beautiful pieces   \n",
       "2     5.0  Really impressive tree. It goes together quick...   \n",
       "3     4.0                                               good   \n",
       "4     5.0             Gift for granddaughter.  She loved it.   \n",
       "\n",
       "                                    summary     product        reviewer  \n",
       "0  Thought this cream was making me sick...  B00DKEQYJY  A3IQA3VVDHGAK1  \n",
       "1                                Five Stars  B00L4JJKH0  A1QWCVZMSYG1N2  \n",
       "2                        Highly recommended  1620213982  A2QRLRHMFDJ25E  \n",
       "3                                Four Stars  B01D2J35BG  A2MMO1P2ZNEUNF  \n",
       "4                    Cool looking umbrella.  B01422IQD4  A1WXKDA47VPOFT  "
      ]
     },
     "execution_count": 11,
     "metadata": {},
     "output_type": "execute_result"
    }
   ],
   "source": [
    "dataframe.head()"
   ]
  }
 ],
 "metadata": {
  "kernelspec": {
   "display_name": "Python 3.10.2 64-bit",
   "language": "python",
   "name": "python3"
  },
  "language_info": {
   "codemirror_mode": {
    "name": "ipython",
    "version": 3
   },
   "file_extension": ".py",
   "mimetype": "text/x-python",
   "name": "python",
   "nbconvert_exporter": "python",
   "pygments_lexer": "ipython3",
   "version": "3.10.2"
  },
  "orig_nbformat": 4,
  "vscode": {
   "interpreter": {
    "hash": "7f2c6d96787cba19ceb301b0ff1d01f982e1c2f8b515f24385efde571fabf7c9"
   }
  }
 },
 "nbformat": 4,
 "nbformat_minor": 2
}
